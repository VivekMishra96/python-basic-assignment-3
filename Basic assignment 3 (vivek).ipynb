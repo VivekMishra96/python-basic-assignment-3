{
 "cells": [
  {
   "cell_type": "code",
   "execution_count": null,
   "id": "002a8e9d",
   "metadata": {},
   "outputs": [],
   "source": [
    " 1.Why are functions advantageous to have in your programs?"
   ]
  },
  {
   "cell_type": "code",
   "execution_count": null,
   "id": "66548aec",
   "metadata": {},
   "outputs": [],
   "source": [
    "Ans. 1 Reducing duplication of code.\n",
    "       2 This makes programs shorter, easier to read, and easier to update.\n",
    "         3 Improving clarity of the code.\n",
    "          4 Reuse of code.\n",
    "            5 Information hiding."
   ]
  },
  {
   "cell_type": "code",
   "execution_count": null,
   "id": "10f9fa28",
   "metadata": {},
   "outputs": [],
   "source": [
    "2.When does the code in a function run: when it's specified or when it's called?"
   ]
  },
  {
   "cell_type": "code",
   "execution_count": null,
   "id": "c7d156ce",
   "metadata": {},
   "outputs": [],
   "source": [
    "Ans.The code in a function executes when the function is called, not when the function is defined."
   ]
  },
  {
   "cell_type": "code",
   "execution_count": null,
   "id": "7f904f70",
   "metadata": {},
   "outputs": [],
   "source": [
    "3.What statement creates a function?"
   ]
  },
  {
   "cell_type": "code",
   "execution_count": null,
   "id": "d6f7cfae",
   "metadata": {},
   "outputs": [],
   "source": [
    " Ans. A Function can be defined using the def keyword in the following format:\n",
    "\n",
    "    def function_name(parameters):\n",
    "    \"\"\"\n",
    "    define a set of operations\n",
    "    \"\"\"\n",
    "The function name is what we use to identify the function.\n",
    "The parameters of a function are the inputs for that function. These inputs can be used within the functions for computations. Parameters are optional."
   ]
  },
  {
   "cell_type": "code",
   "execution_count": null,
   "id": "d61995a2",
   "metadata": {},
   "outputs": [],
   "source": [
    " 4.What is the difference between a function and a function call?"
   ]
  },
  {
   "cell_type": "code",
   "execution_count": null,
   "id": "dad0fb04",
   "metadata": {},
   "outputs": [],
   "source": [
    " Ans.A function is a set of instructions. We can define a function but the instructions won't be executed until we call the function and tell compiler to execute the instruction of the defined function."
   ]
  },
  {
   "cell_type": "code",
   "execution_count": null,
   "id": "e861a452",
   "metadata": {},
   "outputs": [],
   "source": [
    "5.How many global scopes are there in a Python program? Home many local scopes?"
   ]
  },
  {
   "cell_type": "code",
   "execution_count": null,
   "id": "c63ca371",
   "metadata": {},
   "outputs": [],
   "source": [
    "Ans.There is one global scope, and a local scope is created whenever a function is called."
   ]
  },
  {
   "cell_type": "code",
   "execution_count": null,
   "id": "26eee9d6",
   "metadata": {},
   "outputs": [],
   "source": [
    " 6.What happens to variables in a local scope when the function call returns"
   ]
  },
  {
   "cell_type": "code",
   "execution_count": null,
   "id": "3f9f0bc1",
   "metadata": {},
   "outputs": [],
   "source": [
    "Ans.When the execution of the function returns, the local variables in the function scope are destroyed.\n",
    "Even the parameters of the function are local to the scope of the function."
   ]
  },
  {
   "cell_type": "code",
   "execution_count": null,
   "id": "6bf6d33f",
   "metadata": {},
   "outputs": [],
   "source": [
    "7.What is the concept of a return value? Is it possible to have a return value in an expression"
   ]
  },
  {
   "cell_type": "code",
   "execution_count": null,
   "id": "1a9cb0ba",
   "metadata": {},
   "outputs": [],
   "source": [
    "Ans.The return statement is used to return values from the function. Any remaining lines of code block after the return statement are not executed."
   ]
  },
  {
   "cell_type": "code",
   "execution_count": null,
   "id": "4ce411d3",
   "metadata": {},
   "outputs": [],
   "source": [
    "8.If a function does not have a return statement, what is the return value of a call to that function?"
   ]
  },
  {
   "cell_type": "code",
   "execution_count": null,
   "id": "46757b95",
   "metadata": {},
   "outputs": [],
   "source": [
    "Ans.If there is no return statement for a function, its return value is None."
   ]
  },
  {
   "cell_type": "code",
   "execution_count": null,
   "id": "62af4956",
   "metadata": {},
   "outputs": [],
   "source": [
    "9. How do you make a function variable refer to the global variable?"
   ]
  },
  {
   "cell_type": "code",
   "execution_count": null,
   "id": "1bdf5cc0",
   "metadata": {},
   "outputs": [],
   "source": [
    "Ans.We use global keyword before a variable to tell interpreter inside a function that we are using a global variable.\n",
    "\n",
    "We use this keyword if we have to modify the global variable inside a function."
   ]
  },
  {
   "cell_type": "code",
   "execution_count": null,
   "id": "8b1867c7",
   "metadata": {},
   "outputs": [],
   "source": [
    "10.What is the data type of None?"
   ]
  },
  {
   "cell_type": "code",
   "execution_count": null,
   "id": "dacc65b4",
   "metadata": {},
   "outputs": [],
   "source": [
    "Ans.The data type of None is NoneType."
   ]
  },
  {
   "cell_type": "code",
   "execution_count": null,
   "id": "ce27a804",
   "metadata": {},
   "outputs": [],
   "source": [
    "11.What does the sentence import areallyourpetsnamederic do?"
   ]
  },
  {
   "cell_type": "code",
   "execution_count": null,
   "id": "99e3bb2b",
   "metadata": {},
   "outputs": [],
   "source": [
    "Ans.That import statement imports a module named areallyourpetsnamederic."
   ]
  },
  {
   "cell_type": "code",
   "execution_count": null,
   "id": "d7954bb4",
   "metadata": {},
   "outputs": [],
   "source": [
    "12.If you had a bacon() feature in a spam module, what would you call it after importing spam?"
   ]
  },
  {
   "cell_type": "code",
   "execution_count": null,
   "id": "d39cbe90",
   "metadata": {},
   "outputs": [],
   "source": [
    "Ans.This function can be called with spam.bacon()."
   ]
  },
  {
   "cell_type": "code",
   "execution_count": null,
   "id": "d0525ad3",
   "metadata": {},
   "outputs": [],
   "source": [
    "13.What can you do to save a programme from crashing if it encounters an error?"
   ]
  },
  {
   "cell_type": "code",
   "execution_count": null,
   "id": "b971b93e",
   "metadata": {},
   "outputs": [],
   "source": [
    "Ans.Place the line of code that might cause an error in a try clause."
   ]
  },
  {
   "cell_type": "code",
   "execution_count": null,
   "id": "99e24cfd",
   "metadata": {},
   "outputs": [],
   "source": [
    "14. What is the purpose of the try clause? What is the purpose of the except clause?"
   ]
  },
  {
   "cell_type": "code",
   "execution_count": null,
   "id": "b2cbe424",
   "metadata": {},
   "outputs": [],
   "source": [
    "Ans.The code that could potentially cause an error goes in the try clause.\n",
    "\n",
    "The code that executes if an error happens goes in the except clause."
   ]
  },
  {
   "cell_type": "code",
   "execution_count": null,
   "id": "676a6ee1",
   "metadata": {},
   "outputs": [],
   "source": []
  },
  {
   "cell_type": "code",
   "execution_count": null,
   "id": "46321507",
   "metadata": {},
   "outputs": [],
   "source": []
  },
  {
   "cell_type": "code",
   "execution_count": null,
   "id": "8657b20e",
   "metadata": {},
   "outputs": [],
   "source": []
  },
  {
   "cell_type": "code",
   "execution_count": null,
   "id": "18583ae3",
   "metadata": {},
   "outputs": [],
   "source": []
  },
  {
   "cell_type": "code",
   "execution_count": null,
   "id": "e5faf39c",
   "metadata": {},
   "outputs": [],
   "source": []
  },
  {
   "cell_type": "code",
   "execution_count": null,
   "id": "0ebb573b",
   "metadata": {},
   "outputs": [],
   "source": []
  },
  {
   "cell_type": "code",
   "execution_count": null,
   "id": "88db57d0",
   "metadata": {},
   "outputs": [],
   "source": []
  }
 ],
 "metadata": {
  "kernelspec": {
   "display_name": "Python 3 (ipykernel)",
   "language": "python",
   "name": "python3"
  },
  "language_info": {
   "codemirror_mode": {
    "name": "ipython",
    "version": 3
   },
   "file_extension": ".py",
   "mimetype": "text/x-python",
   "name": "python",
   "nbconvert_exporter": "python",
   "pygments_lexer": "ipython3",
   "version": "3.9.7"
  }
 },
 "nbformat": 4,
 "nbformat_minor": 5
}
